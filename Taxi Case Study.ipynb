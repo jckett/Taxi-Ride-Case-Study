{
 "cells": [
  {
   "cell_type": "markdown",
   "metadata": {},
   "source": [
    "# 11.3 Case Study: Taxi Ride Fares\n",
    "Name: Joi Chu-Ketterer <br>Date: 11/8/19<br>Course: DSC550 - Data Mining"
   ]
  },
  {
   "cell_type": "code",
   "execution_count": 1,
   "metadata": {},
   "outputs": [],
   "source": [
    "import pandas as pd #let's me import the data into a dataframe\n",
    "import numpy as np #allows me to create arrays from the data\n",
    "import matplotlib.pyplot as plt #allows me to make graphs\n",
    "from geopy import distance #allows me to calculate geographical distances"
   ]
  },
  {
   "cell_type": "code",
   "execution_count": 2,
   "metadata": {},
   "outputs": [],
   "source": [
    "taxi = pd.read_csv('taxi.csv')"
   ]
  },
  {
   "cell_type": "code",
   "execution_count": 3,
   "metadata": {},
   "outputs": [
    {
     "data": {
      "text/html": [
       "<div>\n",
       "<style scoped>\n",
       "    .dataframe tbody tr th:only-of-type {\n",
       "        vertical-align: middle;\n",
       "    }\n",
       "\n",
       "    .dataframe tbody tr th {\n",
       "        vertical-align: top;\n",
       "    }\n",
       "\n",
       "    .dataframe thead th {\n",
       "        text-align: right;\n",
       "    }\n",
       "</style>\n",
       "<table border=\"1\" class=\"dataframe\">\n",
       "  <thead>\n",
       "    <tr style=\"text-align: right;\">\n",
       "      <th></th>\n",
       "      <th>key</th>\n",
       "      <th>fare_amount</th>\n",
       "      <th>pickup_datetime</th>\n",
       "      <th>pickup_longitude</th>\n",
       "      <th>pickup_latitude</th>\n",
       "      <th>dropoff_longitude</th>\n",
       "      <th>dropoff_latitude</th>\n",
       "      <th>passenger_count</th>\n",
       "    </tr>\n",
       "  </thead>\n",
       "  <tbody>\n",
       "    <tr>\n",
       "      <th>0</th>\n",
       "      <td>2009-06-15 17:26:21.0000001</td>\n",
       "      <td>4.5</td>\n",
       "      <td>2009-06-15 17:26:21 UTC</td>\n",
       "      <td>-73.844311</td>\n",
       "      <td>40.721319</td>\n",
       "      <td>-73.841610</td>\n",
       "      <td>40.712278</td>\n",
       "      <td>1</td>\n",
       "    </tr>\n",
       "    <tr>\n",
       "      <th>1</th>\n",
       "      <td>2010-01-05 16:52:16.0000002</td>\n",
       "      <td>16.9</td>\n",
       "      <td>2010-01-05 16:52:16 UTC</td>\n",
       "      <td>-74.016048</td>\n",
       "      <td>40.711303</td>\n",
       "      <td>-73.979268</td>\n",
       "      <td>40.782004</td>\n",
       "      <td>1</td>\n",
       "    </tr>\n",
       "    <tr>\n",
       "      <th>2</th>\n",
       "      <td>2011-08-18 00:35:00.00000049</td>\n",
       "      <td>5.7</td>\n",
       "      <td>2011-08-18 00:35:00 UTC</td>\n",
       "      <td>-73.982738</td>\n",
       "      <td>40.761270</td>\n",
       "      <td>-73.991242</td>\n",
       "      <td>40.750562</td>\n",
       "      <td>2</td>\n",
       "    </tr>\n",
       "    <tr>\n",
       "      <th>3</th>\n",
       "      <td>2012-04-21 04:30:42.0000001</td>\n",
       "      <td>7.7</td>\n",
       "      <td>2012-04-21 04:30:42 UTC</td>\n",
       "      <td>-73.987130</td>\n",
       "      <td>40.733143</td>\n",
       "      <td>-73.991567</td>\n",
       "      <td>40.758092</td>\n",
       "      <td>1</td>\n",
       "    </tr>\n",
       "    <tr>\n",
       "      <th>4</th>\n",
       "      <td>2010-03-09 07:51:00.000000135</td>\n",
       "      <td>5.3</td>\n",
       "      <td>2010-03-09 07:51:00 UTC</td>\n",
       "      <td>-73.968095</td>\n",
       "      <td>40.768008</td>\n",
       "      <td>-73.956655</td>\n",
       "      <td>40.783762</td>\n",
       "      <td>1</td>\n",
       "    </tr>\n",
       "  </tbody>\n",
       "</table>\n",
       "</div>"
      ],
      "text/plain": [
       "                             key  fare_amount          pickup_datetime  \\\n",
       "0    2009-06-15 17:26:21.0000001          4.5  2009-06-15 17:26:21 UTC   \n",
       "1    2010-01-05 16:52:16.0000002         16.9  2010-01-05 16:52:16 UTC   \n",
       "2   2011-08-18 00:35:00.00000049          5.7  2011-08-18 00:35:00 UTC   \n",
       "3    2012-04-21 04:30:42.0000001          7.7  2012-04-21 04:30:42 UTC   \n",
       "4  2010-03-09 07:51:00.000000135          5.3  2010-03-09 07:51:00 UTC   \n",
       "\n",
       "   pickup_longitude  pickup_latitude  dropoff_longitude  dropoff_latitude  \\\n",
       "0        -73.844311        40.721319         -73.841610         40.712278   \n",
       "1        -74.016048        40.711303         -73.979268         40.782004   \n",
       "2        -73.982738        40.761270         -73.991242         40.750562   \n",
       "3        -73.987130        40.733143         -73.991567         40.758092   \n",
       "4        -73.968095        40.768008         -73.956655         40.783762   \n",
       "\n",
       "   passenger_count  \n",
       "0                1  \n",
       "1                1  \n",
       "2                2  \n",
       "3                1  \n",
       "4                1  "
      ]
     },
     "execution_count": 3,
     "metadata": {},
     "output_type": "execute_result"
    }
   ],
   "source": [
    "taxi.head()"
   ]
  },
  {
   "cell_type": "code",
   "execution_count": 4,
   "metadata": {},
   "outputs": [
    {
     "data": {
      "text/plain": [
       "key                  0\n",
       "fare_amount          0\n",
       "pickup_datetime      0\n",
       "pickup_longitude     0\n",
       "pickup_latitude      0\n",
       "dropoff_longitude    0\n",
       "dropoff_latitude     0\n",
       "passenger_count      0\n",
       "dtype: int64"
      ]
     },
     "execution_count": 4,
     "metadata": {},
     "output_type": "execute_result"
    }
   ],
   "source": [
    "taxi.isnull().sum()"
   ]
  },
  {
   "cell_type": "code",
   "execution_count": 5,
   "metadata": {},
   "outputs": [
    {
     "name": "stderr",
     "output_type": "stream",
     "text": [
      "/Users/jckett/anaconda3/lib/python3.7/site-packages/geopy/point.py:405: UserWarning: Latitude normalization has been prohibited in the newer versions of geopy, because the normalized value happened to be on a different pole, which is probably not what was meant. If you pass coordinates as positional args, please make sure that the order is (latitude, longitude) or (y, x) in Cartesian terms.\n",
      "  return cls(*args)\n"
     ]
    }
   ],
   "source": [
    "# this allows me to calculate the distances between pickup and dropoff \n",
    "\n",
    "pick_lat = list(taxi['pickup_latitude'])\n",
    "pick_long = list(taxi['pickup_longitude'])\n",
    "drop_lat = list(taxi['dropoff_latitude'])\n",
    "drop_long = list(taxi['dropoff_longitude'])\n",
    "\n",
    "pick_up = list(zip(pick_lat, pick_long))\n",
    "drop_off = list(zip(drop_lat, drop_long))\n",
    "combined = list(zip(pick_up, drop_off))\n",
    "\n",
    "distance_list = []\n",
    "\n",
    "for x in combined:\n",
    "    try:\n",
    "        item = distance.distance(x[0], x[1]).miles\n",
    "    except:\n",
    "        item = 0\n",
    "    \n",
    "    distance_list.append(item)"
   ]
  },
  {
   "cell_type": "code",
   "execution_count": 6,
   "metadata": {},
   "outputs": [],
   "source": [
    "# once calculated, the values are added to the dataframe as a new column\n",
    "\n",
    "taxi['distance'] = distance_list"
   ]
  },
  {
   "cell_type": "code",
   "execution_count": 7,
   "metadata": {},
   "outputs": [],
   "source": [
    "# a similar approach is used to extract the month, day, and hour from pickup_datetime\n",
    "# this will make it more useful for predictions\n",
    "\n",
    "date = list(taxi['pickup_datetime'])\n",
    "\n",
    "month = []\n",
    "day = []\n",
    "hour = []\n",
    "\n",
    "for x in date:\n",
    "    try:\n",
    "        segment = x[5:7]\n",
    "    except:\n",
    "        segment = 0\n",
    "\n",
    "    month.append(segment)\n",
    "    \n",
    "for x in date:\n",
    "    try:\n",
    "        segment = x[8:10]\n",
    "    except:\n",
    "        segment = 0\n",
    "\n",
    "    day.append(segment)\n",
    "    \n",
    "for x in date:\n",
    "    try:\n",
    "        segment = x[11:13]\n",
    "    except:\n",
    "        segment = 0\n",
    "\n",
    "    hour.append(segment)\n",
    "    \n",
    "\n",
    "# this creates a new column in the dataframe for each extracted attribute\n",
    "\n",
    "taxi['month'] = month\n",
    "taxi['day'] = day\n",
    "taxi['hour'] = hour"
   ]
  },
  {
   "cell_type": "code",
   "execution_count": 8,
   "metadata": {},
   "outputs": [
    {
     "data": {
      "text/html": [
       "<div>\n",
       "<style scoped>\n",
       "    .dataframe tbody tr th:only-of-type {\n",
       "        vertical-align: middle;\n",
       "    }\n",
       "\n",
       "    .dataframe tbody tr th {\n",
       "        vertical-align: top;\n",
       "    }\n",
       "\n",
       "    .dataframe thead th {\n",
       "        text-align: right;\n",
       "    }\n",
       "</style>\n",
       "<table border=\"1\" class=\"dataframe\">\n",
       "  <thead>\n",
       "    <tr style=\"text-align: right;\">\n",
       "      <th></th>\n",
       "      <th>key</th>\n",
       "      <th>fare_amount</th>\n",
       "      <th>pickup_datetime</th>\n",
       "      <th>pickup_longitude</th>\n",
       "      <th>pickup_latitude</th>\n",
       "      <th>dropoff_longitude</th>\n",
       "      <th>dropoff_latitude</th>\n",
       "      <th>passenger_count</th>\n",
       "      <th>distance</th>\n",
       "      <th>month</th>\n",
       "      <th>day</th>\n",
       "      <th>hour</th>\n",
       "    </tr>\n",
       "  </thead>\n",
       "  <tbody>\n",
       "    <tr>\n",
       "      <th>0</th>\n",
       "      <td>2009-06-15 17:26:21.0000001</td>\n",
       "      <td>4.5</td>\n",
       "      <td>2009-06-15 17:26:21 UTC</td>\n",
       "      <td>-73.844311</td>\n",
       "      <td>40.721319</td>\n",
       "      <td>-73.841610</td>\n",
       "      <td>40.712278</td>\n",
       "      <td>1</td>\n",
       "      <td>0.639764</td>\n",
       "      <td>06</td>\n",
       "      <td>15</td>\n",
       "      <td>17</td>\n",
       "    </tr>\n",
       "    <tr>\n",
       "      <th>1</th>\n",
       "      <td>2010-01-05 16:52:16.0000002</td>\n",
       "      <td>16.9</td>\n",
       "      <td>2010-01-05 16:52:16 UTC</td>\n",
       "      <td>-74.016048</td>\n",
       "      <td>40.711303</td>\n",
       "      <td>-73.979268</td>\n",
       "      <td>40.782004</td>\n",
       "      <td>1</td>\n",
       "      <td>5.246511</td>\n",
       "      <td>01</td>\n",
       "      <td>05</td>\n",
       "      <td>16</td>\n",
       "    </tr>\n",
       "    <tr>\n",
       "      <th>2</th>\n",
       "      <td>2011-08-18 00:35:00.00000049</td>\n",
       "      <td>5.7</td>\n",
       "      <td>2011-08-18 00:35:00 UTC</td>\n",
       "      <td>-73.982738</td>\n",
       "      <td>40.761270</td>\n",
       "      <td>-73.991242</td>\n",
       "      <td>40.750562</td>\n",
       "      <td>2</td>\n",
       "      <td>0.863167</td>\n",
       "      <td>08</td>\n",
       "      <td>18</td>\n",
       "      <td>00</td>\n",
       "    </tr>\n",
       "    <tr>\n",
       "      <th>3</th>\n",
       "      <td>2012-04-21 04:30:42.0000001</td>\n",
       "      <td>7.7</td>\n",
       "      <td>2012-04-21 04:30:42 UTC</td>\n",
       "      <td>-73.987130</td>\n",
       "      <td>40.733143</td>\n",
       "      <td>-73.991567</td>\n",
       "      <td>40.758092</td>\n",
       "      <td>1</td>\n",
       "      <td>1.737223</td>\n",
       "      <td>04</td>\n",
       "      <td>21</td>\n",
       "      <td>04</td>\n",
       "    </tr>\n",
       "    <tr>\n",
       "      <th>4</th>\n",
       "      <td>2010-03-09 07:51:00.000000135</td>\n",
       "      <td>5.3</td>\n",
       "      <td>2010-03-09 07:51:00 UTC</td>\n",
       "      <td>-73.968095</td>\n",
       "      <td>40.768008</td>\n",
       "      <td>-73.956655</td>\n",
       "      <td>40.783762</td>\n",
       "      <td>1</td>\n",
       "      <td>1.241710</td>\n",
       "      <td>03</td>\n",
       "      <td>09</td>\n",
       "      <td>07</td>\n",
       "    </tr>\n",
       "  </tbody>\n",
       "</table>\n",
       "</div>"
      ],
      "text/plain": [
       "                             key  fare_amount          pickup_datetime  \\\n",
       "0    2009-06-15 17:26:21.0000001          4.5  2009-06-15 17:26:21 UTC   \n",
       "1    2010-01-05 16:52:16.0000002         16.9  2010-01-05 16:52:16 UTC   \n",
       "2   2011-08-18 00:35:00.00000049          5.7  2011-08-18 00:35:00 UTC   \n",
       "3    2012-04-21 04:30:42.0000001          7.7  2012-04-21 04:30:42 UTC   \n",
       "4  2010-03-09 07:51:00.000000135          5.3  2010-03-09 07:51:00 UTC   \n",
       "\n",
       "   pickup_longitude  pickup_latitude  dropoff_longitude  dropoff_latitude  \\\n",
       "0        -73.844311        40.721319         -73.841610         40.712278   \n",
       "1        -74.016048        40.711303         -73.979268         40.782004   \n",
       "2        -73.982738        40.761270         -73.991242         40.750562   \n",
       "3        -73.987130        40.733143         -73.991567         40.758092   \n",
       "4        -73.968095        40.768008         -73.956655         40.783762   \n",
       "\n",
       "   passenger_count  distance month day hour  \n",
       "0                1  0.639764    06  15   17  \n",
       "1                1  5.246511    01  05   16  \n",
       "2                2  0.863167    08  18   00  \n",
       "3                1  1.737223    04  21   04  \n",
       "4                1  1.241710    03  09   07  "
      ]
     },
     "execution_count": 8,
     "metadata": {},
     "output_type": "execute_result"
    }
   ],
   "source": [
    "taxi.head()"
   ]
  },
  {
   "cell_type": "code",
   "execution_count": 9,
   "metadata": {},
   "outputs": [],
   "source": [
    "# to preserve the dataset in case I need to go back to it later, I am making a copy \n",
    "# I will use the copy dataframe moving forward\n",
    "\n",
    "taxi_new = taxi"
   ]
  },
  {
   "cell_type": "code",
   "execution_count": 10,
   "metadata": {},
   "outputs": [
    {
     "data": {
      "text/plain": [
       "Text(0, 0.5, 'Frequency')"
      ]
     },
     "execution_count": 10,
     "metadata": {},
     "output_type": "execute_result"
    },
    {
     "data": {
      "image/png": "[encoded data removed]",
      "text/plain": [
       "<Figure size 360x720 with 1 Axes>"
      ]
     },
     "metadata": {
      "needs_background": "light"
     },
     "output_type": "display_data"
    }
   ],
   "source": [
    "# now I can start some data exploration\n",
    "\n",
    "fig, ax = plt.subplots()\n",
    "fig.set_size_inches(5, 10)\n",
    "plt.hist(taxi['distance'])\n",
    "plt.grid(False)\n",
    "plt.title('Histogram of Ride Distances')\n",
    "plt.xlabel('Distance (miles)')\n",
    "plt.ylabel('Frequency')"
   ]
  },
  {
   "cell_type": "code",
   "execution_count": 12,
   "metadata": {},
   "outputs": [
    {
     "data": {
      "text/html": [
       "<div>\n",
       "<style scoped>\n",
       "    .dataframe tbody tr th:only-of-type {\n",
       "        vertical-align: middle;\n",
       "    }\n",
       "\n",
       "    .dataframe tbody tr th {\n",
       "        vertical-align: top;\n",
       "    }\n",
       "\n",
       "    .dataframe thead th {\n",
       "        text-align: right;\n",
       "    }\n",
       "</style>\n",
       "<table border=\"1\" class=\"dataframe\">\n",
       "  <thead>\n",
       "    <tr style=\"text-align: right;\">\n",
       "      <th></th>\n",
       "      <th>key</th>\n",
       "      <th>fare_amount</th>\n",
       "      <th>pickup_datetime</th>\n",
       "      <th>pickup_longitude</th>\n",
       "      <th>pickup_latitude</th>\n",
       "      <th>dropoff_longitude</th>\n",
       "      <th>dropoff_latitude</th>\n",
       "      <th>passenger_count</th>\n",
       "      <th>distance</th>\n",
       "      <th>month</th>\n",
       "      <th>day</th>\n",
       "      <th>hour</th>\n",
       "    </tr>\n",
       "  </thead>\n",
       "  <tbody>\n",
       "    <tr>\n",
       "      <th>472</th>\n",
       "      <td>2009-02-22 22:48:00.000000130</td>\n",
       "      <td>2.5</td>\n",
       "      <td>2009-02-22 22:48:00 UTC</td>\n",
       "      <td>0.000000</td>\n",
       "      <td>0.000000</td>\n",
       "      <td>-74.005433</td>\n",
       "      <td>40.726685</td>\n",
       "      <td>2</td>\n",
       "      <td>5385.831698</td>\n",
       "      <td>02</td>\n",
       "      <td>22</td>\n",
       "      <td>22</td>\n",
       "    </tr>\n",
       "    <tr>\n",
       "      <th>1260</th>\n",
       "      <td>2011-03-10 20:25:00.00000049</td>\n",
       "      <td>5.7</td>\n",
       "      <td>2011-03-10 20:25:00 UTC</td>\n",
       "      <td>-73.973907</td>\n",
       "      <td>40.754743</td>\n",
       "      <td>0.000000</td>\n",
       "      <td>0.000000</td>\n",
       "      <td>2</td>\n",
       "      <td>5384.555856</td>\n",
       "      <td>03</td>\n",
       "      <td>10</td>\n",
       "      <td>20</td>\n",
       "    </tr>\n",
       "    <tr>\n",
       "      <th>2397</th>\n",
       "      <td>2012-06-24 17:11:10.0000001</td>\n",
       "      <td>45.0</td>\n",
       "      <td>2012-06-24 17:11:10 UTC</td>\n",
       "      <td>0.000000</td>\n",
       "      <td>0.000000</td>\n",
       "      <td>-74.010230</td>\n",
       "      <td>40.714553</td>\n",
       "      <td>2</td>\n",
       "      <td>5385.927715</td>\n",
       "      <td>06</td>\n",
       "      <td>24</td>\n",
       "      <td>17</td>\n",
       "    </tr>\n",
       "    <tr>\n",
       "      <th>4278</th>\n",
       "      <td>2015-04-07 23:33:02.0000005</td>\n",
       "      <td>7.0</td>\n",
       "      <td>2015-04-07 23:33:02 UTC</td>\n",
       "      <td>-73.972702</td>\n",
       "      <td>40.757423</td>\n",
       "      <td>0.000000</td>\n",
       "      <td>0.000000</td>\n",
       "      <td>1</td>\n",
       "      <td>5384.527286</td>\n",
       "      <td>04</td>\n",
       "      <td>07</td>\n",
       "      <td>23</td>\n",
       "    </tr>\n",
       "    <tr>\n",
       "      <th>4597</th>\n",
       "      <td>2010-03-30 07:12:00.000000158</td>\n",
       "      <td>6.9</td>\n",
       "      <td>2010-03-30 07:12:00 UTC</td>\n",
       "      <td>0.000000</td>\n",
       "      <td>0.000000</td>\n",
       "      <td>-73.989693</td>\n",
       "      <td>40.754280</td>\n",
       "      <td>1</td>\n",
       "      <td>5385.364617</td>\n",
       "      <td>03</td>\n",
       "      <td>30</td>\n",
       "      <td>07</td>\n",
       "    </tr>\n",
       "  </tbody>\n",
       "</table>\n",
       "</div>"
      ],
      "text/plain": [
       "                                key  fare_amount          pickup_datetime  \\\n",
       "472   2009-02-22 22:48:00.000000130          2.5  2009-02-22 22:48:00 UTC   \n",
       "1260   2011-03-10 20:25:00.00000049          5.7  2011-03-10 20:25:00 UTC   \n",
       "2397    2012-06-24 17:11:10.0000001         45.0  2012-06-24 17:11:10 UTC   \n",
       "4278    2015-04-07 23:33:02.0000005          7.0  2015-04-07 23:33:02 UTC   \n",
       "4597  2010-03-30 07:12:00.000000158          6.9  2010-03-30 07:12:00 UTC   \n",
       "\n",
       "      pickup_longitude  pickup_latitude  dropoff_longitude  dropoff_latitude  \\\n",
       "472           0.000000         0.000000         -74.005433         40.726685   \n",
       "1260        -73.973907        40.754743           0.000000          0.000000   \n",
       "2397          0.000000         0.000000         -74.010230         40.714553   \n",
       "4278        -73.972702        40.757423           0.000000          0.000000   \n",
       "4597          0.000000         0.000000         -73.989693         40.754280   \n",
       "\n",
       "      passenger_count     distance month day hour  \n",
       "472                 2  5385.831698    02  22   22  \n",
       "1260                2  5384.555856    03  10   20  \n",
       "2397                2  5385.927715    06  24   17  \n",
       "4278                1  5384.527286    04  07   23  \n",
       "4597                1  5385.364617    03  30   07  "
      ]
     },
     "execution_count": 12,
     "metadata": {},
     "output_type": "execute_result"
    }
   ],
   "source": [
    "outliers = taxi_new['distance'] > 4000\n",
    "taxi_new[outliers].head()"
   ]
  },
  {
   "cell_type": "code",
   "execution_count": 13,
   "metadata": {},
   "outputs": [],
   "source": [
    "# to account for mis-entered information, I will remove entries that are out of the following bounds\n",
    "\n",
    "taxi_new = taxi_new.drop(taxi_new[taxi_new.pickup_latitude < 30].index)\n",
    "taxi_new = taxi_new.drop(taxi_new[taxi_new.dropoff_latitude < 30].index)\n",
    "taxi_new = taxi_new.drop(taxi_new[taxi_new.dropoff_longitude > -65].index)\n",
    "taxi_new = taxi_new.drop(taxi_new[taxi_new.pickup_longitude > -65].index)"
   ]
  },
  {
   "cell_type": "code",
   "execution_count": 14,
   "metadata": {},
   "outputs": [
    {
     "data": {
      "text/plain": [
       "Text(0, 0.5, 'Frequency')"
      ]
     },
     "execution_count": 14,
     "metadata": {},
     "output_type": "execute_result"
    },
    {
     "data": {
      "image/png": "[encoded data removed]",
      "text/plain": [
       "<Figure size 360x720 with 1 Axes>"
      ]
     },
     "metadata": {
      "needs_background": "light"
     },
     "output_type": "display_data"
    }
   ],
   "source": [
    "# let's see how this affected the distribution\n",
    "\n",
    "fig, ax = plt.subplots()\n",
    "fig.set_size_inches(5, 10)\n",
    "plt.hist(taxi_new['distance'])\n",
    "plt.grid(False)\n",
    "plt.title('Histogram of Ride Distance')\n",
    "plt.xlabel('Distance (miles)')\n",
    "plt.ylabel('Frequency')"
   ]
  },
  {
   "cell_type": "code",
   "execution_count": 15,
   "metadata": {},
   "outputs": [
    {
     "data": {
      "text/plain": [
       "Text(0, 0.5, 'Frequency')"
      ]
     },
     "execution_count": 15,
     "metadata": {},
     "output_type": "execute_result"
    },
    {
     "data": {
      "image/png": "[encoded data removed]",
      "text/plain": [
       "<Figure size 360x720 with 1 Axes>"
      ]
     },
     "metadata": {
      "needs_background": "light"
     },
     "output_type": "display_data"
    }
   ],
   "source": [
    "# here is a histogram of ride fare costs\n",
    "\n",
    "fig, ax = plt.subplots()\n",
    "fig.set_size_inches(5, 10)\n",
    "plt.hist(taxi_new['fare_amount'])\n",
    "plt.grid(False)\n",
    "plt.title('Histogram of Fare Costs')\n",
    "plt.xlabel('Cost (USD)')\n",
    "plt.ylabel('Frequency')"
   ]
  },
  {
   "cell_type": "code",
   "execution_count": 16,
   "metadata": {},
   "outputs": [],
   "source": [
    "# since both attributes are still heavily skewed after data cleaning, log transformations will be applied\n",
    "\n",
    "def log_transformation(data):\n",
    "    return data.apply(np.log1p)\n",
    "\n",
    "taxi_new['distance_log1p'] = log_transformation(taxi_new['distance'])\n",
    "taxi_new['fare_amount_log1p'] = log_transformation(taxi_new['fare_amount'])"
   ]
  },
  {
   "cell_type": "code",
   "execution_count": 17,
   "metadata": {},
   "outputs": [
    {
     "data": {
      "text/plain": [
       "Text(0, 0.5, 'Frequency')"
      ]
     },
     "execution_count": 17,
     "metadata": {},
     "output_type": "execute_result"
    },
    {
     "data": {
      "image/png": "[encoded data removed]",
      "text/plain": [
       "<Figure size 360x720 with 1 Axes>"
      ]
     },
     "metadata": {
      "needs_background": "light"
     },
     "output_type": "display_data"
    }
   ],
   "source": [
    "# once again, let's see how that affected the distribution\n",
    "\n",
    "fig, ax = plt.subplots()\n",
    "fig.set_size_inches(5, 10)\n",
    "plt.hist(taxi_new['distance_log1p'])\n",
    "plt.grid(False)\n",
    "plt.title('Histogram of Log Ride Distance')\n",
    "plt.xlabel('Distance (miles)')\n",
    "plt.ylabel('Frequency')"
   ]
  },
  {
   "cell_type": "code",
   "execution_count": 18,
   "metadata": {},
   "outputs": [
    {
     "name": "stderr",
     "output_type": "stream",
     "text": [
      "/Users/jckett/anaconda3/lib/python3.7/site-packages/numpy/lib/histograms.py:829: RuntimeWarning: invalid value encountered in greater_equal\n",
      "  keep = (tmp_a >= first_edge)\n",
      "/Users/jckett/anaconda3/lib/python3.7/site-packages/numpy/lib/histograms.py:830: RuntimeWarning: invalid value encountered in less_equal\n",
      "  keep &= (tmp_a <= last_edge)\n"
     ]
    },
    {
     "data": {
      "text/plain": [
       "Text(0, 0.5, 'Frequency')"
      ]
     },
     "execution_count": 18,
     "metadata": {},
     "output_type": "execute_result"
    },
    {
     "data": {
      "image/png": "[encoded data removed]",
      "text/plain": [
       "<Figure size 360x720 with 1 Axes>"
      ]
     },
     "metadata": {
      "needs_background": "light"
     },
     "output_type": "display_data"
    }
   ],
   "source": [
    "# similarly, we will see how it affect the fare costs\n",
    "\n",
    "fig, ax = plt.subplots()\n",
    "fig.set_size_inches(5, 10)\n",
    "plt.hist(taxi_new['fare_amount_log1p'])\n",
    "plt.grid(False)\n",
    "plt.title('Histogram of Log Fare Cost')\n",
    "plt.xlabel('Cost (USD)')\n",
    "plt.ylabel('Frequency')"
   ]
  },
  {
   "cell_type": "code",
   "execution_count": 19,
   "metadata": {},
   "outputs": [
    {
     "data": {
      "text/html": [
       "<div>\n",
       "<style scoped>\n",
       "    .dataframe tbody tr th:only-of-type {\n",
       "        vertical-align: middle;\n",
       "    }\n",
       "\n",
       "    .dataframe tbody tr th {\n",
       "        vertical-align: top;\n",
       "    }\n",
       "\n",
       "    .dataframe thead th {\n",
       "        text-align: right;\n",
       "    }\n",
       "</style>\n",
       "<table border=\"1\" class=\"dataframe\">\n",
       "  <thead>\n",
       "    <tr style=\"text-align: right;\">\n",
       "      <th></th>\n",
       "      <th>passenger_count</th>\n",
       "      <th>distance</th>\n",
       "      <th>month</th>\n",
       "      <th>day</th>\n",
       "      <th>hour</th>\n",
       "      <th>distance_log1p</th>\n",
       "      <th>fare_amount_log1p</th>\n",
       "    </tr>\n",
       "  </thead>\n",
       "  <tbody>\n",
       "    <tr>\n",
       "      <th>0</th>\n",
       "      <td>1</td>\n",
       "      <td>0.639764</td>\n",
       "      <td>06</td>\n",
       "      <td>15</td>\n",
       "      <td>17</td>\n",
       "      <td>0.494552</td>\n",
       "      <td>1.704748</td>\n",
       "    </tr>\n",
       "    <tr>\n",
       "      <th>1</th>\n",
       "      <td>1</td>\n",
       "      <td>5.246511</td>\n",
       "      <td>01</td>\n",
       "      <td>05</td>\n",
       "      <td>16</td>\n",
       "      <td>1.832023</td>\n",
       "      <td>2.884801</td>\n",
       "    </tr>\n",
       "    <tr>\n",
       "      <th>2</th>\n",
       "      <td>2</td>\n",
       "      <td>0.863167</td>\n",
       "      <td>08</td>\n",
       "      <td>18</td>\n",
       "      <td>00</td>\n",
       "      <td>0.622278</td>\n",
       "      <td>1.902108</td>\n",
       "    </tr>\n",
       "    <tr>\n",
       "      <th>3</th>\n",
       "      <td>1</td>\n",
       "      <td>1.737223</td>\n",
       "      <td>04</td>\n",
       "      <td>21</td>\n",
       "      <td>04</td>\n",
       "      <td>1.006944</td>\n",
       "      <td>2.163323</td>\n",
       "    </tr>\n",
       "    <tr>\n",
       "      <th>4</th>\n",
       "      <td>1</td>\n",
       "      <td>1.241710</td>\n",
       "      <td>03</td>\n",
       "      <td>09</td>\n",
       "      <td>07</td>\n",
       "      <td>0.807239</td>\n",
       "      <td>1.840550</td>\n",
       "    </tr>\n",
       "  </tbody>\n",
       "</table>\n",
       "</div>"
      ],
      "text/plain": [
       "   passenger_count  distance month day hour  distance_log1p  fare_amount_log1p\n",
       "0                1  0.639764    06  15   17        0.494552           1.704748\n",
       "1                1  5.246511    01  05   16        1.832023           2.884801\n",
       "2                2  0.863167    08  18   00        0.622278           1.902108\n",
       "3                1  1.737223    04  21   04        1.006944           2.163323\n",
       "4                1  1.241710    03  09   07        0.807239           1.840550"
      ]
     },
     "execution_count": 19,
     "metadata": {},
     "output_type": "execute_result"
    }
   ],
   "source": [
    "# now that the data looks how we want it to, I will remove any columns I don't need \n",
    "\n",
    "taxi_new = taxi_new.drop(['key','fare_amount','pickup_datetime','pickup_longitude','pickup_latitude','dropoff_longitude','dropoff_latitude'], axis = 1)\n",
    "taxi_new.head()"
   ]
  },
  {
   "cell_type": "code",
   "execution_count": 20,
   "metadata": {},
   "outputs": [],
   "source": [
    "# to avoid issues with predictions, all entries with null or 0 values will be removed\n",
    "taxi_new = taxi_new.dropna()\n",
    "taxi_new = taxi_new[~(taxi_new == 0).any(axis=1)]"
   ]
  },
  {
   "cell_type": "code",
   "execution_count": 21,
   "metadata": {},
   "outputs": [],
   "source": [
    "# this identifies which attributes are predictors and which is the outcome \n",
    "# I chose to select this using index values, but they can also be selected using column names \n",
    "\n",
    "X = taxi_new.iloc[:, 0:6].values\n",
    "y = taxi_new.iloc[:, 6].values"
   ]
  },
  {
   "cell_type": "code",
   "execution_count": 22,
   "metadata": {},
   "outputs": [],
   "source": [
    "# this creates the training and testing split set\n",
    "\n",
    "from sklearn.model_selection import train_test_split\n",
    "\n",
    "X_train, X_test, y_train, y_test = train_test_split(X, y, test_size=0.3, random_state=0)"
   ]
  },
  {
   "cell_type": "code",
   "execution_count": 23,
   "metadata": {},
   "outputs": [
    {
     "name": "stdout",
     "output_type": "stream",
     "text": [
      "Training Features Shape: (33789, 6)\n",
      "Training Labels Shape: (33789,)\n",
      "Testing Features Shape: (14481, 6)\n",
      "Testing Labels Shape: (14481,)\n"
     ]
    }
   ],
   "source": [
    "# to ensure the two sets were correctly created, we can check the shape of all four\n",
    "\n",
    "print('Training Features Shape:', X_train.shape)\n",
    "print('Training Labels Shape:', y_train.shape)\n",
    "print('Testing Features Shape:', X_test.shape)\n",
    "print('Testing Labels Shape:', y_test.shape)"
   ]
  },
  {
   "cell_type": "code",
   "execution_count": 24,
   "metadata": {},
   "outputs": [],
   "source": [
    "# this creates, fits, and predicts a random forest regressor on the training and test sets\n",
    "\n",
    "from sklearn.ensemble import RandomForestRegressor\n",
    "\n",
    "regressor = RandomForestRegressor(n_estimators=200, random_state=0)\n",
    "regressor.fit(X_train, y_train)\n",
    "y_pred = regressor.predict(X_test)"
   ]
  },
  {
   "cell_type": "code",
   "execution_count": 25,
   "metadata": {},
   "outputs": [
    {
     "name": "stdout",
     "output_type": "stream",
     "text": [
      "Accuracy: 91.75795949076542\n"
     ]
    }
   ],
   "source": [
    "# this calculates the accuracy of the model \n",
    "\n",
    "# Calculate mean absolute percentage error (MAPE)\n",
    "errors = abs(y_pred - y_test)\n",
    "\n",
    "mape = 100 * (errors / y_test)\n",
    "\n",
    "# Calculate and display accuracy\n",
    "accuracy = 100 - np.mean(mape)\n",
    "\n",
    "print('Accuracy:', accuracy)"
   ]
  },
  {
   "cell_type": "code",
   "execution_count": 26,
   "metadata": {},
   "outputs": [],
   "source": [
    "# let's change this into a classification problem\n",
    "# first we need to turn the continuous fare cost attribute into a binary one \n",
    "\n",
    "def label_fare(row):\n",
    "   if row['fare_amount_log1p'] > 3:\n",
    "      return 'high'\n",
    "    \n",
    "   if row['fare_amount_log1p'] < 3:\n",
    "      return 'low'"
   ]
  },
  {
   "cell_type": "code",
   "execution_count": 27,
   "metadata": {},
   "outputs": [
    {
     "data": {
      "text/html": [
       "<div>\n",
       "<style scoped>\n",
       "    .dataframe tbody tr th:only-of-type {\n",
       "        vertical-align: middle;\n",
       "    }\n",
       "\n",
       "    .dataframe tbody tr th {\n",
       "        vertical-align: top;\n",
       "    }\n",
       "\n",
       "    .dataframe thead th {\n",
       "        text-align: right;\n",
       "    }\n",
       "</style>\n",
       "<table border=\"1\" class=\"dataframe\">\n",
       "  <thead>\n",
       "    <tr style=\"text-align: right;\">\n",
       "      <th></th>\n",
       "      <th>passenger_count</th>\n",
       "      <th>distance</th>\n",
       "      <th>month</th>\n",
       "      <th>day</th>\n",
       "      <th>hour</th>\n",
       "      <th>distance_log1p</th>\n",
       "      <th>fare_amount_log1p</th>\n",
       "      <th>new_fare</th>\n",
       "    </tr>\n",
       "  </thead>\n",
       "  <tbody>\n",
       "    <tr>\n",
       "      <th>0</th>\n",
       "      <td>1</td>\n",
       "      <td>0.639764</td>\n",
       "      <td>06</td>\n",
       "      <td>15</td>\n",
       "      <td>17</td>\n",
       "      <td>0.494552</td>\n",
       "      <td>1.704748</td>\n",
       "      <td>low</td>\n",
       "    </tr>\n",
       "    <tr>\n",
       "      <th>1</th>\n",
       "      <td>1</td>\n",
       "      <td>5.246511</td>\n",
       "      <td>01</td>\n",
       "      <td>05</td>\n",
       "      <td>16</td>\n",
       "      <td>1.832023</td>\n",
       "      <td>2.884801</td>\n",
       "      <td>low</td>\n",
       "    </tr>\n",
       "    <tr>\n",
       "      <th>2</th>\n",
       "      <td>2</td>\n",
       "      <td>0.863167</td>\n",
       "      <td>08</td>\n",
       "      <td>18</td>\n",
       "      <td>00</td>\n",
       "      <td>0.622278</td>\n",
       "      <td>1.902108</td>\n",
       "      <td>low</td>\n",
       "    </tr>\n",
       "    <tr>\n",
       "      <th>3</th>\n",
       "      <td>1</td>\n",
       "      <td>1.737223</td>\n",
       "      <td>04</td>\n",
       "      <td>21</td>\n",
       "      <td>04</td>\n",
       "      <td>1.006944</td>\n",
       "      <td>2.163323</td>\n",
       "      <td>low</td>\n",
       "    </tr>\n",
       "    <tr>\n",
       "      <th>4</th>\n",
       "      <td>1</td>\n",
       "      <td>1.241710</td>\n",
       "      <td>03</td>\n",
       "      <td>09</td>\n",
       "      <td>07</td>\n",
       "      <td>0.807239</td>\n",
       "      <td>1.840550</td>\n",
       "      <td>low</td>\n",
       "    </tr>\n",
       "  </tbody>\n",
       "</table>\n",
       "</div>"
      ],
      "text/plain": [
       "   passenger_count  distance month day hour  distance_log1p  \\\n",
       "0                1  0.639764    06  15   17        0.494552   \n",
       "1                1  5.246511    01  05   16        1.832023   \n",
       "2                2  0.863167    08  18   00        0.622278   \n",
       "3                1  1.737223    04  21   04        1.006944   \n",
       "4                1  1.241710    03  09   07        0.807239   \n",
       "\n",
       "   fare_amount_log1p new_fare  \n",
       "0           1.704748      low  \n",
       "1           2.884801      low  \n",
       "2           1.902108      low  \n",
       "3           2.163323      low  \n",
       "4           1.840550      low  "
      ]
     },
     "execution_count": 27,
     "metadata": {},
     "output_type": "execute_result"
    }
   ],
   "source": [
    "# this applies the function we just created to every row in the dataset and adds the results as a new column\n",
    "\n",
    "taxi_new['new_fare'] = taxi_new.apply (lambda row: label_fare(row), axis=1)\n",
    "taxi_new.head()"
   ]
  },
  {
   "cell_type": "code",
   "execution_count": 28,
   "metadata": {},
   "outputs": [],
   "source": [
    "# once again, we need to specify the predictor attributes and the outcome one\n",
    "\n",
    "X2 = taxi_new.iloc[:, 0:6].values\n",
    "y2 = taxi_new.iloc[:, 7].values"
   ]
  },
  {
   "cell_type": "code",
   "execution_count": 29,
   "metadata": {},
   "outputs": [],
   "source": [
    "# this creates the training and testing sets\n",
    "\n",
    "X_train2, X_test2, y_train2, y_test2 = train_test_split(X2, y2, test_size=0.3, random_state=0)\n",
    "\n",
    "# this creates, fits, and predicts using a random forest classifier \n",
    "\n",
    "from sklearn.ensemble import RandomForestClassifier\n",
    "\n",
    "regressor2 = RandomForestClassifier(n_estimators=200, random_state=0)\n",
    "\n",
    "regressor2.fit(X_train2, y_train2)\n",
    "y_pred2 = regressor2.predict(X_test2)"
   ]
  },
  {
   "cell_type": "code",
   "execution_count": 30,
   "metadata": {},
   "outputs": [
    {
     "name": "stdout",
     "output_type": "stream",
     "text": [
      "Accuracy: 0.9541468130653961\n"
     ]
    }
   ],
   "source": [
    "from sklearn.metrics import classification_report, confusion_matrix, accuracy_score\n",
    "\n",
    "print('Accuracy:', accuracy_score(y_test2, y_pred2))"
   ]
  }
 ],
 "metadata": {
  "kernelspec": {
   "display_name": "Python 3",
   "language": "python",
   "name": "python3"
  },
  "language_info": {
   "codemirror_mode": {
    "name": "ipython",
    "version": 3
   },
   "file_extension": ".py",
   "mimetype": "text/x-python",
   "name": "python",
   "nbconvert_exporter": "python",
   "pygments_lexer": "ipython3",
   "version": "3.7.5"
  }
 },
 "nbformat": 4,
 "nbformat_minor": 2
}
